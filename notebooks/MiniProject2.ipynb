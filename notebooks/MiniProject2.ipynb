{
 "cells": [
  {
   "cell_type": "markdown",
   "id": "36f2ce7b-adaa-4550-bc00-ac2a4233ebb3",
   "metadata": {},
   "source": [
    "## <span style=\"color:darkblue\"> Mini Project 2\n",
    "### Made by Emma Holtzman emma.holtzman@temple.edu"
   ]
  },
  {
   "cell_type": "markdown",
   "id": "f0273515-c5f7-4c90-b5a2-1c5262179417",
   "metadata": {},
   "source": [
    "This notebook is an exploration of the decline of Sea Ice in the Arctic and Antarctic regions. "
   ]
  },
  {
   "cell_type": "markdown",
   "id": "02bddec9-5a97-4044-812e-30edde5ed963",
   "metadata": {},
   "source": [
    "### <span style=\"color:royalblue\"> Importment and Definition of Tools and Formulae Used"
   ]
  },
  {
   "cell_type": "code",
   "execution_count": 3,
   "id": "1bf31d1c-b17b-4111-b966-f95b06ef904e",
   "metadata": {},
   "outputs": [],
   "source": [
    "from matplotlib import pyplot as plt\n",
    "import numpy as np\n",
    "import pandas as pd\n",
    "import xarray as xr\n",
    "import zarr  # to read in Zarr format\n",
    "import gcsfs # to read google cloud data\n",
    "import momlevel as ml ## for computing annual mean and seasonal cycle.\n",
    "import cftime\n",
    "import matplotlib.path as mpath   ## needed for nice looking polar projections.\n",
    "from cartopy import crs as ccrs, feature as cfeature        ## for plotting geo spatial data\n",
    "import cmocean                    ## for nice colormaps."
   ]
  },
  {
   "cell_type": "code",
   "execution_count": 4,
   "id": "41c6bfec-e471-4089-b9a1-791768cc48af",
   "metadata": {},
   "outputs": [],
   "source": [
    "%matplotlib inline                           \n",
    "%config InlineBackend.figure_format='retina' \n",
    "plt.rcParams['figure.figsize'] = 12,6"
   ]
  },
  {
   "cell_type": "code",
   "execution_count": 1,
   "id": "39bb587f-ad58-4465-bc01-2ff1210762dc",
   "metadata": {},
   "outputs": [],
   "source": [
    "# The following function is used to create weights for the Earths grid space.\n",
    "import warnings \n",
    "\n",
    "def standard_grid_cell_area(lat, lon, rE=6371.0e3):\n",
    "    \"\"\" computes the cell area for a standard spherical grid \"\"\"\n",
    "\n",
    "    dLat = lat[1] - lat[0]\n",
    "    dLon = lon[1] - lon[0]\n",
    "    area = np.empty((len(lat), len(lon)))\n",
    "    for j in range(0, len(lat)):\n",
    "        for i in range(0, len(lon)):\n",
    "            lon1 = lon[i] + dLon / 2\n",
    "            lon0 = lon[i] - dLon / 2\n",
    "            lat1 = lat[j] + dLat / 2\n",
    "            lat0 = lat[j] - dLat / 2\n",
    "            area[j, i] = (\n",
    "                (np.pi / 180.0)\n",
    "                * rE\n",
    "                * rE\n",
    "                * np.abs(np.sin(np.radians(lat0)) - np.sin(np.radians(lat1)))\n",
    "                * np.abs(lon0 - lon1)\n",
    "            )\n",
    "    return area"
   ]
  },
  {
   "cell_type": "code",
   "execution_count": 5,
   "id": "835d0de4-107d-43ef-a80b-b9e0d5be3c1e",
   "metadata": {},
   "outputs": [],
   "source": [
    "def North_Polar(array,vmin,vmax,cmap):\n",
    "    subplot_kws = dict(projection=ccrs.NorthPolarStereo()) \n",
    "    fig, ax = plt.subplots(figsize=[10, 5],subplot_kw=subplot_kws)\n",
    "    \n",
    "    array.plot(x='lon', y='lat',ax=ax,\n",
    "               transform =ccrs.PlateCarree(),\n",
    "               vmin=vmin,\n",
    "               vmax=vmax,\n",
    "               extend='both',\n",
    "               cmap=cmap,levels=30)\n",
    "\n",
    "    # Limit the map to -50 degrees latitude and below.\n",
    "    ax.set_extent([-180, 180, 50, 90], ccrs.PlateCarree())\n",
    "    \n",
    "    # Compute a circle in axes coordinates, which we can use as a boundary\n",
    "    # for the map. We can pan/zoom as much as we like - the boundary will be\n",
    "    # permanently circular.\n",
    "    \n",
    "    theta = np.linspace(0, 2*np.pi, 100)\n",
    "    center, radius = [0.5, 0.5], 0.5\n",
    "    verts = np.vstack([np.sin(theta), np.cos(theta)]).T\n",
    "    circle = mpath.Path(verts * radius + center)\n",
    "\n",
    "    ax.set_boundary(circle, transform=ax.transAxes)\n",
    "    ax.coastlines()"
   ]
  },
  {
   "cell_type": "code",
   "execution_count": 6,
   "id": "3a99adcc-d361-48c7-abe0-6d20edb50576",
   "metadata": {},
   "outputs": [],
   "source": [
    "def South_Polar(array,vmin,vmax,cmap):\n",
    "    subplot_kws = dict(projection=ccrs.SouthPolarStereo()) \n",
    "    fig, ax = plt.subplots(figsize=[10, 5],subplot_kw=subplot_kws)\n",
    "    \n",
    "    array.plot(x='lon', y='lat',ax=ax,\n",
    "               transform =ccrs.PlateCarree(),\n",
    "               vmin=vmin,\n",
    "               vmax=vmax,\n",
    "               extend='both',\n",
    "               cmap=cmap, levels=30)\n",
    "\n",
    "    # Limit the map to -50 degrees latitude and below.\n",
    "    ax.set_extent([-180, 180, -90, -50], ccrs.PlateCarree())\n",
    "    \n",
    "    # Compute a circle in axes coordinates, which we can use as a boundary\n",
    "    # for the map. We can pan/zoom as much as we like - the boundary will be\n",
    "    # permanently circular.\n",
    "    \n",
    "    theta = np.linspace(0, 2*np.pi, 100)\n",
    "    center, radius = [0.5, 0.5], 0.5\n",
    "    verts = np.vstack([np.sin(theta), np.cos(theta)]).T\n",
    "    circle = mpath.Path(verts * radius + center)\n",
    "\n",
    "    ax.set_boundary(circle, transform=ax.transAxes)\n",
    "    ax.coastlines()"
   ]
  },
  {
   "cell_type": "code",
   "execution_count": null,
   "id": "1d60c57b-0117-4c19-a35d-eb2c40a700db",
   "metadata": {},
   "outputs": [],
   "source": []
  },
  {
   "cell_type": "markdown",
   "id": "1c853290-4fda-40b7-b02e-95c16b607ee9",
   "metadata": {},
   "source": [
    "### <span style=\"color:royalblue\"> Dataset Importation"
   ]
  },
  {
   "cell_type": "code",
   "execution_count": 7,
   "id": "a0305319-e5bd-427c-a7a9-8bfccd52a26b",
   "metadata": {},
   "outputs": [],
   "source": [
    "## Load a dataset of SST from OISST and assign to a variable called SST_OISST:\n",
    "SST_OISST = xr.open_dataset('/home/ees_student/Unit5_Holtzman/data/sst.oisst.mon.mean.1993_2022.nc',\n",
    "                           use_cftime=True)\n",
    "                           ### this use_cftime=True allows Xarray to interpret time coords as calendar.\n",
    "\n",
    "## load in a dataset that contains a land-sea mask:\n",
    "OISST_landsea_mask = xr.open_dataset('/home/ees_student/Unit5_Holtzman/data/lsmask.nc')"
   ]
  },
  {
   "cell_type": "code",
   "execution_count": 9,
   "id": "34c9b18c-4d80-4973-a809-6ce4d004182f",
   "metadata": {},
   "outputs": [],
   "source": [
    "## data set of the observed sea ice concentration and the grid cell area\n",
    "seaice_observations = xr.open_zarr('/home/ees_student/Unit5_Holtzman/data/seaice_concentration_data')\n",
    "seaice_gridcell_area = xr.open_dataset('/home/ees_student/Unit5_Holtzman/data/cell_area_seaiceconc.nc')"
   ]
  },
  {
   "cell_type": "code",
   "execution_count": 11,
   "id": "b07770e5-3515-4200-a958-b7241912c34b",
   "metadata": {},
   "outputs": [],
   "source": [
    "# The code in the cell below reads in climate model results stored in the Google Cloud from the \n",
    "#GFDL-ESM4 Earth System Model developed at NOAA's Geophysical Fluid Dynamics Laboratory (GFDL). \n",
    "#The results are monthly sea surface temperature from the high-emissions future scenario, SSP5-85. \n",
    "#A grid cell area file is also loaded in.\n",
    "df = pd.read_csv('https://storage.googleapis.com/cmip6/cmip6-zarr-consolidated-stores.csv')\n",
    "\n",
    "gfdl_esm4_sst_data = df.query(\n",
    "    \"activity_id=='ScenarioMIP' & \\\n",
    "    table_id == 'Omon' & \\\n",
    "    variable_id == 'tos' & \\\n",
    "    experiment_id == 'ssp585' & \\\n",
    "    institution_id == 'NOAA-GFDL' &  \\\n",
    "    source_id == 'GFDL-ESM4' & \\\n",
    "    grid_label == 'gn' & \\\n",
    "    member_id == 'r1i1p1f1'\"\n",
    ")\n",
    "\n",
    "# this only needs to be created once\n",
    "gcs = gcsfs.GCSFileSystem(token='anon')\n",
    "# get the path to a specific zarr store (the first one from the dataframe above)\n",
    "zstore_sst = gfdl_esm4_sst_data.zstore.values[-1]\n",
    "# create a mutable-mapping-style interface to the store\n",
    "mapper_sst = gcs.get_mapper(zstore_sst)\n",
    "# open the dataset using xarray and zarr\n",
    "gfdl_esm4_historical_sst = xr.open_zarr(mapper_sst, \n",
    "                                         consolidated=True,use_cftime=True\n",
    "                                         ).tos.rename({'y':'latitude',\n",
    "                                                             'x':'longitude',\n",
    "                                                             'lat':'geolat',\n",
    "                                                             'lon':'geolon'})\n",
    "gfdl_esm4_cell_area_data = df.query(\n",
    "    \"activity_id=='CMIP' & \\\n",
    "    table_id == 'Ofx' & \\\n",
    "    variable_id == 'areacello' & \\\n",
    "    experiment_id == 'piControl' & \\\n",
    "    institution_id == 'NOAA-GFDL' &  \\\n",
    "    source_id == 'GFDL-ESM4' & \\\n",
    "    grid_label == 'gn'\")\n",
    "\n",
    "# get the path to a specific zarr store (the first one from the dataframe above)\n",
    "zstore_area = gfdl_esm4_cell_area_data.zstore.values[-1]\n",
    "# create a mutable-mapping-style interface to the store\n",
    "mapper_area = gcs.get_mapper(zstore_area)\n",
    "# open the dataset using xarray and zarr\n",
    "gfdl_esm4_cell_area = xr.open_zarr(mapper_area, \n",
    "                                         consolidated=True,\n",
    "                                         ).areacello.rename({'y':'latitude',\n",
    "                                                             'x':'longitude',\n",
    "                                                             'lat':'geolat',\n",
    "                                                             'lon':'geolon'})"
   ]
  },
  {
   "cell_type": "code",
   "execution_count": 12,
   "id": "1545683b-d4bb-4141-8022-996109e0acd6",
   "metadata": {},
   "outputs": [],
   "source": [
    "#The code in the cell below reads in climate model results stored in the Google Cloud from the \n",
    "#GFDL-ESM4 Earth System Model developed at NOAA's Geophysical Fluid Dynamics Laboratory (GFDL). \n",
    "#The results are monthly sea ice concentration from the high-emissions future scenario, SSP5-85. \n",
    "#A grid cell area file is also loaded in.\n",
    "\n",
    "df = pd.read_csv('https://storage.googleapis.com/cmip6/cmip6-zarr-consolidated-stores.csv')\n",
    "\n",
    "gfdl_esm4_sea_ice_data = df.query(\n",
    "    \"activity_id=='ScenarioMIP' & \\\n",
    "    table_id == 'SImon' & \\\n",
    "    variable_id == 'siconc' & \\\n",
    "    experiment_id == 'ssp585' & \\\n",
    "    institution_id == 'NOAA-GFDL' &  \\\n",
    "    source_id == 'GFDL-ESM4' & \\\n",
    "    grid_label == 'gn' & \\\n",
    "    member_id == 'r1i1p1f1'\"\n",
    ")\n",
    "\n",
    "# this only needs to be created once\n",
    "gcs = gcsfs.GCSFileSystem(token='anon')\n",
    "# get the path to a specific zarr store (the first one from the dataframe above)\n",
    "zstore_siconc = gfdl_esm4_sea_ice_data.zstore.values[-1]\n",
    "# create a mutable-mapping-style interface to the store\n",
    "mapper_siconc = gcs.get_mapper(zstore_siconc)\n",
    "# open the dataset using xarray and zarr\n",
    "gfdl_esm4_historical_siconc = xr.open_zarr(mapper_siconc, \n",
    "                                         consolidated=True,use_cftime=True\n",
    "                                         ).siconc.rename({'y':'latitude',\n",
    "                                                             'x':'longitude',\n",
    "                                                             'lat':'geolat',\n",
    "                                                             'lon':'geolon'})\n",
    "\n",
    "\n",
    "gfdl_esm4_cell_area_data = df.query(\n",
    "    \"activity_id=='CMIP' & \\\n",
    "    table_id == 'Ofx' & \\\n",
    "    variable_id == 'areacello' & \\\n",
    "    experiment_id == 'piControl' & \\\n",
    "    institution_id == 'NOAA-GFDL' &  \\\n",
    "    source_id == 'GFDL-ESM4' & \\\n",
    "    grid_label == 'gn'\")\n",
    "\n",
    "# get the path to a specific zarr store (the first one from the dataframe above)\n",
    "zstore_area = gfdl_esm4_cell_area_data.zstore.values[-1]\n",
    "# create a mutable-mapping-style interface to the store\n",
    "mapper_area = gcs.get_mapper(zstore_area)\n",
    "# open the dataset using xarray and zarr\n",
    "gfdl_esm4_cell_area = xr.open_zarr(mapper_area, \n",
    "                                         consolidated=True,\n",
    "                                         ).areacello.rename({'y':'latitude',\n",
    "                                                             'x':'longitude',\n",
    "                                                             'lat':'geolat',\n",
    "                                                             'lon':'geolon'})"
   ]
  },
  {
   "cell_type": "markdown",
   "id": "45e3a18a-8cdf-4d1c-96a7-647dec3df9cc",
   "metadata": {},
   "source": [
    "## Things I need to discuss\n",
    "\n",
    "\n",
    "- How is Antarctic sea ice different from Arctic sea ice and why? Your answer\n",
    "should discuss its seasonal cycle, thickness, and extent.\n",
    "- Is multi-year ice more common in the Arctic or Antarctic?\n",
    "- What month has experienced the largest change in sea ice extent when comparing\n",
    "2020 to the 1982 to 2010 average for the Arctic and Antarctic?\n",
    "- Describe the term Arctic amplification and the feedback that is believed to be a\n",
    "key driver of sea ice loss in the Arctic.\n",
    "- How does the rate of change in SST compare when considering the area-weighted\n",
    "global average, Arctic average, Antarctic average?\n",
    "- Does sea ice melt contribute to global sea level rise? Why or why not?\n"
   ]
  },
  {
   "cell_type": "markdown",
   "id": "5ffa88f2-9bd3-46a9-a019-49e0008bd578",
   "metadata": {},
   "source": [
    "### <span style=\"color:royalblue\"> Introduction"
   ]
  },
  {
   "cell_type": "markdown",
   "id": "abe628a2-1344-47ad-bc10-e576fb1c8fc0",
   "metadata": {},
   "source": [
    "- What is sea ice?\n",
    "- What role does sea ice play in our climate system and why should we be\n",
    "concerned about its rapid decline?\n",
    "- Define the following terms: Sea ice concentration, Sea ice extent, Sea ice thickness"
   ]
  },
  {
   "cell_type": "markdown",
   "id": "31c4425c-c0c2-4723-b7fe-33db77646958",
   "metadata": {},
   "source": [
    "### <span style=\"color:royalblue\"> Exploration"
   ]
  },
  {
   "cell_type": "markdown",
   "id": "8becccc4-6c66-4fb7-bb6f-430a52b9c57d",
   "metadata": {},
   "source": [
    "### <span style=\"color:royalblue\"> Conclusion"
   ]
  },
  {
   "cell_type": "code",
   "execution_count": null,
   "id": "40e20692-8803-445d-9944-6ae3e080f7b6",
   "metadata": {},
   "outputs": [],
   "source": []
  }
 ],
 "metadata": {
  "kernelspec": {
   "display_name": "Python 3 (ipykernel)",
   "language": "python",
   "name": "python3"
  },
  "language_info": {
   "codemirror_mode": {
    "name": "ipython",
    "version": 3
   },
   "file_extension": ".py",
   "mimetype": "text/x-python",
   "name": "python",
   "nbconvert_exporter": "python",
   "pygments_lexer": "ipython3",
   "version": "3.9.18"
  }
 },
 "nbformat": 4,
 "nbformat_minor": 5
}
